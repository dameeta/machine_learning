{
  "nbformat": 4,
  "nbformat_minor": 0,
  "metadata": {
    "colab": {
      "provenance": []
    },
    "kernelspec": {
      "name": "python3",
      "display_name": "Python 3"
    },
    "language_info": {
      "name": "python"
    }
  },
  "cells": [
    {
      "cell_type": "code",
      "execution_count": 2,
      "metadata": {
        "id": "EbW7wN1_taKw"
      },
      "outputs": [],
      "source": [
        "from sklearn import tree\n",
        "from sklearn.model_selection import train_test_split\n",
        "import numpy as np\n",
        "\n",
        "# Create Decision Tree\n",
        "features = ['raining']\n",
        "X = [[0], [1]]\n",
        "Y = [0, 1]\n",
        "\n",
        "clf = tree.DecisionTreeClassifier()\n",
        "clf.fit(X,Y)\n",
        "\n",
        "# Visualize Tree\n",
        "dotfile = open(\"dtree.dot\", 'w')\n",
        "tree.export_graphviz(clf, out_file = dotfile, feature_names=features, filled=True, rounded=True, impurity=False, class_names=['No Umbrella','Umbrella'])\n",
        "dotfile.close()\n"
      ]
    }
  ]
}